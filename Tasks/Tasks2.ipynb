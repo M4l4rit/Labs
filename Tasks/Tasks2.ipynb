{
 "cells": [
  {
   "cell_type": "markdown",
   "id": "244314fb",
   "metadata": {},
   "source": [
    "# Задание 1"
   ]
  },
  {
   "cell_type": "markdown",
   "id": "64630386",
   "metadata": {},
   "source": [
    "Даны две строки: `s1` и `s2` с одинаковым размером.\n",
    "\n",
    "Проверьте, может ли некоторая перестановка строки `s1` “победить” некоторую перестановку строки `s2` или наоборот.\n",
    "\n",
    "Строка x может “победить” строку y (обе имеют размер n), если `x[i] >= y[i]` (в алфавитном порядке) для всех i от 0 до n-1.\n"
   ]
  },
  {
   "cell_type": "markdown",
   "id": "cf51dab2",
   "metadata": {},
   "source": [
    "## Ввод"
   ]
  },
  {
   "cell_type": "markdown",
   "id": "d697a747",
   "metadata": {},
   "source": [
    "`abc`\n",
    "`xya`"
   ]
  },
  {
   "cell_type": "markdown",
   "id": "50b10a2e",
   "metadata": {},
   "source": [
    "## Вывод"
   ]
  },
  {
   "cell_type": "markdown",
   "id": "55442a49",
   "metadata": {},
   "source": [
    "`True`\n",
    "\n",
    "### Исполняемый код записать в ячейку ниже:"
   ]
  },
  {
   "cell_type": "code",
   "execution_count": 66,
   "id": "3b0d440a",
   "metadata": {},
   "outputs": [
    {
     "name": "stdout",
     "output_type": "stream",
     "text": [
      "abc и xya True\n",
      "qwd и bca True\n"
     ]
    }
   ],
   "source": [
    "def func(s1, s2):\n",
    "    _s1 = sorted(list(s1))\n",
    "    _s2 = sorted(list(s2))\n",
    "    flag1 = True\n",
    "    flag2 = True\n",
    "    for i in range(len(_s1)):\n",
    "        if _s1[i] < _s2[i]:\n",
    "            flag1 = False\n",
    "        elif _s2[i] < _s1[i]:\n",
    "            flag2 = False\n",
    "    return flag1 or flag2\n",
    "\n",
    "s1 = \"abc\"\n",
    "s2 = \"xya\"\n",
    "print(s1,\"и\",s2,func(s1, s2))\n"
   ]
  },
  {
   "cell_type": "markdown",
   "id": "b3a969a6",
   "metadata": {},
   "source": [
    "# Задание 2"
   ]
  },
  {
   "cell_type": "markdown",
   "id": "9c1ce05d",
   "metadata": {},
   "source": [
    "Дана строка `s`, вернуть самую длинную полиндромную подстроку в `s`."
   ]
  },
  {
   "cell_type": "markdown",
   "id": "20415c0e",
   "metadata": {},
   "source": [
    "## Ввод"
   ]
  },
  {
   "cell_type": "markdown",
   "id": "e77fcb44",
   "metadata": {},
   "source": [
    "`babad`"
   ]
  },
  {
   "cell_type": "markdown",
   "id": "49996449",
   "metadata": {},
   "source": [
    "## Вывод"
   ]
  },
  {
   "cell_type": "markdown",
   "id": "75be2464",
   "metadata": {},
   "source": [
    "`aba` или `bab`"
   ]
  },
  {
   "cell_type": "markdown",
   "id": "12ef9771",
   "metadata": {},
   "source": [
    "## Исполняемый код записывать в ячейку ниже"
   ]
  },
  {
   "cell_type": "code",
   "execution_count": 65,
   "id": "3f06c4fc",
   "metadata": {},
   "outputs": [
    {
     "name": "stdout",
     "output_type": "stream",
     "text": [
      "['aba', 'bab']\n",
      "['100000001']\n",
      "['01010', '10101']\n"
     ]
    }
   ],
   "source": [
    "\n",
    "def palindrome(s):\n",
    "    l1 = 0\n",
    "    palindromeList = []\n",
    "    \n",
    "    for i in range(2,len(s)):\n",
    "        l2 = i\n",
    "        l1 = 0\n",
    "        while l2 <= len(s)-1:\n",
    "            g = \"\"\n",
    "            if s[l1] == s[l2]:\n",
    "                for i in range(l1,l2+1):\n",
    "                    g += s[i]\n",
    "                palindromeList.append(g)\n",
    "            l1 += 1\n",
    "            l2 += 1\n",
    "\n",
    "    l = []\n",
    "    for i in reversed(range(len(palindromeList))):\n",
    "        if len(palindromeList[i]) == len(palindromeList[i-1]):\n",
    "            l.append(palindromeList[i])\n",
    "        elif len(palindromeList[i]) > len(palindromeList[i-1]):\n",
    "            l.append(palindromeList[i])\n",
    "            break\n",
    "    return l\n",
    "\n",
    "print(palindrome(\"babad\"))\n",
    "print(palindrome(\"100000001\"))\n",
    "print(palindrome(\"101010\"))"
   ]
  },
  {
   "cell_type": "markdown",
   "id": "5f54b630",
   "metadata": {},
   "source": [
    "# Задание 3"
   ]
  },
  {
   "cell_type": "markdown",
   "id": "566f1d3b",
   "metadata": {},
   "source": [
    "Вернуть количество отдельных непустых подстрок текста, которые могут быть записаны как конкатенация некоторой строки с самой собой (т.е. она может быть записана, как `a + a`, где `a` - некоторая строка)."
   ]
  },
  {
   "cell_type": "markdown",
   "id": "0f734fd8",
   "metadata": {},
   "source": [
    "## Ввод"
   ]
  },
  {
   "cell_type": "markdown",
   "id": "e0be5554",
   "metadata": {},
   "source": [
    "`aabb`"
   ]
  },
  {
   "cell_type": "markdown",
   "id": "ab8eda0b",
   "metadata": {},
   "source": [
    "## Вывод"
   ]
  },
  {
   "cell_type": "markdown",
   "id": "1d716d36",
   "metadata": {},
   "source": [
    "2"
   ]
  },
  {
   "cell_type": "markdown",
   "id": "fcd91349",
   "metadata": {},
   "source": [
    "## Исполняемый код записывать в ячейку ниже"
   ]
  },
  {
   "cell_type": "code",
   "execution_count": 1,
   "id": "be07379d",
   "metadata": {},
   "outputs": [
    {
     "name": "stdout",
     "output_type": "stream",
     "text": [
      "3\n"
     ]
    }
   ],
   "source": [
    "def check(s):\n",
    "    s1 = s[0:len(s) // 2]\n",
    "    s2 = s[len(s) // 2:len(s)]\n",
    "    if s1 == s2:\n",
    "        return True\n",
    "    return False\n",
    "\n",
    "def substrings(s):\n",
    "    sub = 0\n",
    "    for i in range(len(s)):\n",
    "        for j in range(i + 2, len(s) + 1, 2):\n",
    "            if check(s[i:j]):\n",
    "                sub += 1\n",
    "    return sub\n",
    "\n",
    "s = \"aabb\"\n",
    "print(substrings(s))"
   ]
  }
 ],
 "metadata": {
  "kernelspec": {
   "display_name": "Python 3 (ipykernel)",
   "language": "python",
   "name": "python3"
  },
  "language_info": {
   "codemirror_mode": {
    "name": "ipython",
    "version": 3
   },
   "file_extension": ".py",
   "mimetype": "text/x-python",
   "name": "python",
   "nbconvert_exporter": "python",
   "pygments_lexer": "ipython3",
   "version": "3.10.2"
  }
 },
 "nbformat": 4,
 "nbformat_minor": 5
}
