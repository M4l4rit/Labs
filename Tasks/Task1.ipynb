{
 "cells": [
  {
   "cell_type": "markdown",
   "id": "fifteen-sailing",
   "metadata": {},
   "source": [
    "## Выполнил студент группы БВТ2005 Сидоров Данила Алексеевич"
   ]
  },
  {
   "cell_type": "markdown",
   "id": "particular-syndicate",
   "metadata": {},
   "source": [
    "### Оглавление\n",
    "1. [Задание 1](#Задание-№1)\n",
    "2. [Задание 2](#Задание-№2)\n",
    "3. [Задание 3](#Задание-№3)\n",
    "4. [Вывод](#Вывод)"
   ]
  },
  {
   "cell_type": "markdown",
   "id": "arctic-stocks",
   "metadata": {},
   "source": [
    "### Задание №1\n",
    "Массив A состоит из целых положительных чисел длин отрезков. Составьте из трех отрезков такой треугольник, чтобы его периметр был максимально возможным. Если невозможно составить треугольник с положительной площадью функция возвращает 0."
   ]
  },
  {
   "cell_type": "code",
   "execution_count": 2,
   "id": "caring-truck",
   "metadata": {
    "scrolled": false
   },
   "outputs": [
    {
     "name": "stdout",
     "output_type": "stream",
     "text": [
      "[12, 14, 14, 14, 17, 19, 20, 23, 24, 25, 27, 28, 28, 33, 36, 37, 43, 43, 45, 45, 45, 46, 47, 50, 53, 54, 55, 55, 57, 58, 66, 66, 67, 67, 67, 71, 76, 76, 78, 80, 81, 81, 84, 86, 87, 87, 92, 92, 94, 97]\n",
      "283\n"
     ]
    }
   ],
   "source": [
    "import random\n",
    "\n",
    "\n",
    "a = []\n",
    "for i in range(50):\n",
    "    a.append(round(random.uniform(10, 100)))\n",
    "\n",
    "def triangle(mass):\n",
    "    mass = sorted(mass)\n",
    "    print(mass)\n",
    "    i = 0\n",
    "    b = True\n",
    "    while b == True:\n",
    "        i += 1\n",
    "        if (mass[len(mass) - i]       + mass[len(mass) - (i + 1)]  > mass[len(mass) - (i + 2)] and\n",
    "            mass[len(mass) - i]       + mass[len(mass) - (i + 2)]  > mass[len(mass) - (i + 1)] and\n",
    "            mass[len(mass) - (i + 1)] + mass[len(mass) -  (i + 2)] > mass[len(mass) - i]):\n",
    "            b = False\n",
    "            return mass[len(mass) - i] + mass[len(mass) - (i + 1)] + mass[len(mass) -  (i + 2)]\n",
    "        else: \n",
    "            if i == 50:\n",
    "                b = False\n",
    "                return 0\n",
    "\n",
    "print(triangle(a))"
   ]
  },
  {
   "cell_type": "markdown",
   "id": "maritime-conversation",
   "metadata": {},
   "source": [
    "### Задание №2\n",
    "Дан массив неотрицательных целых чисел nums. Расположите их в таком порядке, чтобы вместе они образовали максимально возможное число. Замечание: Результат может быть очень большим числом, поэтому представьте его как string, а не integer."
   ]
  },
  {
   "cell_type": "code",
   "execution_count": 7,
   "id": "alert-charm",
   "metadata": {
    "scrolled": false
   },
   "outputs": [
    {
     "name": "stdout",
     "output_type": "stream",
     "text": [
      "['97', '9', '88', '88', '88', '86', '82', '82', '81', '8', '79', '78', '77', '68', '65', '61', '58', '57', '56', '56', '55', '54', '53', '49', '48', '48', '44', '42', '40', '4', '39', '38', '38', '36', '35', '35', '34', '33', '32', '31', '3', '3', '28', '27', '27', '27', '25', '17', '12', '11']\n",
      "97988888886828281879787768656158575656555453494848444240439383836353534333231332827272725171211\n"
     ]
    }
   ],
   "source": [
    "import random\n",
    "\n",
    "\n",
    "nums = []\n",
    "_nums = \"\"\n",
    "for i in range(50):\n",
    "    nums.append(round(random.uniform(0, 100)))\n",
    "    nums[i] = str(nums[i])\n",
    "    nums = sorted(nums, reverse = True)\n",
    "    \n",
    "for i in range(50):\n",
    "    _nums += nums[i]\n",
    "\n",
    "print(nums)\n",
    "print(_nums)\n"
   ]
  },
  {
   "cell_type": "markdown",
   "id": "catholic-roots",
   "metadata": {},
   "source": [
    "### Задание №3\n",
    "Дана матрица mat размером m * n, значения целочисленные. Напишите функцию, сортирующую каждую диагональ матрицы по возрастанию и возвращающую получившуюся матрицу."
   ]
  },
  {
   "cell_type": "code",
   "execution_count": 1,
   "id": "cleared-anniversary",
   "metadata": {
    "scrolled": false
   },
   "outputs": [
    {
     "name": "stdout",
     "output_type": "stream",
     "text": [
      "73 74 37 55 80 \n",
      "17 29 76 21 15 \n",
      "45 80 99 81 49 \n",
      "\n",
      "29 74 45 55 80 \n",
      "17 37 76 21 15 \n",
      "29 80 99 81 49 \n"
     ]
    }
   ],
   "source": [
    "import random\n",
    "\n",
    "N = 3\n",
    "M = 5\n",
    "A = []\n",
    "for i in range(N):\n",
    "    A.append([0]*M)\n",
    "\n",
    "\n",
    "for i in range(N):\n",
    "    for j in range(M):\n",
    "        A[i][j] = round(random.uniform(10, 99))\n",
    "\n",
    "\n",
    "for i in range(len(A)):         \n",
    "    for j in range(len(A[i])):  \n",
    "        print(A[i][j], end = ' ')\n",
    "    print()\n",
    "        \n",
    "def sort_diagonals(mat):\n",
    "    length = min(len(mat), len(mat[0]))\n",
    "    d = []\n",
    "    _d = []\n",
    "    for i in range(length):\n",
    "        d.append(mat[i][i])\n",
    "        _d.append(mat[-i - 1][i])\n",
    "    d.sort()\n",
    "    _d.sort()\n",
    "    for i in range(length):\n",
    "        mat[i][i] = d[i]\n",
    "        mat[-i - 1][i] = _d[i]\n",
    "        \n",
    "\n",
    "print()\n",
    "sort_diagonals(A)\n",
    "for i in range(len(A)):         \n",
    "    for j in range(len(A[i])):  \n",
    "        print(A[i][j], end = ' ')\n",
    "    print()\n",
    "\n",
    " "
   ]
  },
  {
   "cell_type": "markdown",
   "id": "rental-jerusalem",
   "metadata": {},
   "source": [
    "### Вывод\n"
   ]
  },
  {
   "cell_type": "code",
   "execution_count": null,
   "id": "19e7f6a9",
   "metadata": {},
   "outputs": [],
   "source": []
  }
 ],
 "metadata": {
  "kernelspec": {
   "display_name": "Python 3 (ipykernel)",
   "language": "python",
   "name": "python3"
  },
  "language_info": {
   "codemirror_mode": {
    "name": "ipython",
    "version": 3
   },
   "file_extension": ".py",
   "mimetype": "text/x-python",
   "name": "python",
   "nbconvert_exporter": "python",
   "pygments_lexer": "ipython3",
   "version": "3.10.1"
  }
 },
 "nbformat": 4,
 "nbformat_minor": 5
}
